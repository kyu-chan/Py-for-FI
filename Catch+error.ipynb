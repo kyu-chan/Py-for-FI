{
 "cells": [
  {
   "cell_type": "code",
   "execution_count": 113,
   "metadata": {},
   "outputs": [
    {
     "data": {
      "image/png": "[encoded data removed]",
      "text/plain": [
       "<Figure size 576x432 with 2 Axes>"
      ]
     },
     "metadata": {
      "needs_background": "light"
     },
     "output_type": "display_data"
    }
   ],
   "source": [
    "S0 = 100\n",
    "K = 105\n",
    "T = 1\n",
    "r = 0.05\n",
    "sigma = 0.2\n",
    "from numpy import *\n",
    "import numpy as np\n",
    "import pandas as pd\n",
    "from pandas_datareader import data as web\n",
    "import matplotlib.pyplot as plt\n",
    "import h5py\n",
    "import datetime as dt\n",
    "import sys\n",
    "sys.path.append(r'C:\\Users\\pc\\Desktop\\stock\\Py_for_Finance\\tool')\n",
    "from tool import BSM\n",
    "import pprint as pp\n",
    "\n",
    "I = 100000\n",
    "###np를 이용한 벡터화 문법 -> MC\n",
    "np.random.seed(19650507)\n",
    "z = np.random.standard_normal(I)\n",
    "ST = S0 * np.exp( (r - 0.5 * sigma ** 2) * T + sigma * np.sqrt(T) * z)  ## BSM 모형 만기 주가지수\n",
    "hT = np.maximum(ST - K, 0)\n",
    "C0 = np.exp( -r * T ) * np.sum(hT) / I\n",
    "\n",
    "#print( \"Value of the European Call Option %5.3f\" % C0)   ## % .3f는 서식\n",
    "\n",
    "yahoo = web.DataReader('GOOG', data_source = 'yahoo', start = '3/14/2009',\n",
    "                      end = '12/31/2020')\n",
    "\n",
    "#print(yahoo.tail())\n",
    "#print(yahoo.columns)\n",
    "\n",
    "##변동성을 구해보자\n",
    "yahoo['Log_Ret'] = np.log(yahoo['Close'] / yahoo['Close'].shift(1))\n",
    "yahoo['Volatility'] = yahoo['Log_Ret'].rolling(window = 252,      ###center는 중간을 중심으로 계산할지?\n",
    "                                               center = False).std() * np.sqrt(252)   ##window는 몇개씩 연산할 지\n",
    "### 그 변동성 시간 곱 알잖아, 1년 영업일 수 252일 로 두고 하는거\n",
    "\n",
    "yahoo[['Close', 'Volatility']].plot(subplots = True , color = 'blue',\n",
    "                                    figsize = (8 , 6))  ## 축 서식 어떻게 바꾸냐 -> 꼭 찾아볼것\n",
    "plt.show()\n",
    "\n"
   ]
  },
  {
   "cell_type": "code",
   "execution_count": 114,
   "metadata": {},
   "outputs": [
    {
     "name": "stdout",
     "output_type": "stream",
     "text": [
      "                    DATE  EXP_YEAR  EXP_MONTH  PRICE             MATURITY  \\\n",
      "496  1396224000000000000      2014          4  17.85  1397779200000000000   \n",
      "497  1396224000000000000      2014          5  19.55  1400198400000000000   \n",
      "498  1396224000000000000      2014          6  19.95  1403222400000000000   \n",
      "499  1396224000000000000      2014          7  20.40  1405641600000000000   \n",
      "500  1396224000000000000      2014          8  20.70  1408060800000000000   \n",
      "501  1396224000000000000      2014          9  20.95  1411084800000000000   \n",
      "502  1396224000000000000      2014         10  21.05  1413504000000000000   \n",
      "503  1396224000000000000      2014         11  21.25  1416528000000000000   \n",
      "\n",
      "       TTM  \n",
      "496  0.049  \n",
      "497  0.126  \n",
      "498  0.222  \n",
      "499  0.299  \n",
      "500  0.375  \n",
      "501  0.471  \n",
      "502  0.548  \n",
      "503  0.644  \n",
      "                      DATE  EXP_YEAR  EXP_MONTH TYPE  STRIKE  PRICE  \\\n",
      "46170  1396224000000000000      2014          4    C     1.0  16.85   \n",
      "46171  1396224000000000000      2014          4    C     2.0  15.85   \n",
      "46172  1396224000000000000      2014          4    C     3.0  14.85   \n",
      "46173  1396224000000000000      2014          4    C     4.0  13.85   \n",
      "46174  1396224000000000000      2014          4    C     5.0  12.85   \n",
      "\n",
      "                  MATURITY    TTM  \n",
      "46170  1397779200000000000  0.049  \n",
      "46171  1397779200000000000  0.049  \n",
      "46172  1397779200000000000  0.049  \n",
      "46173  1397779200000000000  0.049  \n",
      "46174  1397779200000000000  0.049  \n"
     ]
    }
   ],
   "source": [
    "h5 = pd.HDFStore(\"./data/vstoxx_data_31032014.h5\", 'r')\n",
    "futures_data = h5['futures_data']   ##선물\n",
    "options_data = h5['options_data'] ##콜옵션\n",
    "h5.close()\n",
    "print(futures_data)\n",
    "print(options_data.head())"
   ]
  },
  {
   "cell_type": "code",
   "execution_count": 115,
   "metadata": {},
   "outputs": [],
   "source": [
    "futures_data['DATE'] = futures_data['DATE'].apply(lambda x: dt.datetime.fromtimestamp(x / 1e9))\n",
    "futures_data['MATURITY'] = futures_data['MATURITY'].apply(lambda x: dt.datetime.fromtimestamp(x / 1e9))\n",
    "options_data['DATE'] = options_data['DATE'].apply(lambda x: dt.datetime.fromtimestamp(x / 1e9))\n",
    "options_data['MATURITY'] = options_data['MATURITY'].apply(lambda x: dt.datetime.fromtimestamp(x / 1e9))"
   ]
  },
  {
   "cell_type": "code",
   "execution_count": 116,
   "metadata": {},
   "outputs": [],
   "source": [
    "\n",
    "bs = BSM.bsm_function()\n",
    "\n",
    "tol = 0.5  ##머니니스 범위\n",
    "V0 = 17.6639\n",
    "r = 0.01"
   ]
  },
  {
   "cell_type": "code",
   "execution_count": 117,
   "metadata": {},
   "outputs": [
    {
     "name": "stdout",
     "output_type": "stream",
     "text": [
      "2014-04-18 09:00:00\n"
     ]
    }
   ],
   "source": [
    "#print(options_data.loc[options_data.index[0]][\"MATURITY\"])\n",
    "print(options_data.loc[options_data.index[0],\"MATURITY\"])"
   ]
  },
  {
   "cell_type": "code",
   "execution_count": 118,
   "metadata": {},
   "outputs": [
    {
     "name": "stdout",
     "output_type": "stream",
     "text": [
      "17.85\n"
     ]
    }
   ],
   "source": [
    " forward = futures_data[futures_data['MATURITY'] == \\\n",
    "                           options_data.loc[options_data.index[0]]['MATURITY']]['PRICE'].values[0]\n",
    "print(forward)"
   ]
  },
  {
   "cell_type": "code",
   "execution_count": 119,
   "metadata": {
    "scrolled": true
   },
   "outputs": [
    {
     "name": "stdout",
     "output_type": "stream",
     "text": [
      "                     DATE  EXP_YEAR  EXP_MONTH TYPE  STRIKE  PRICE  \\\n",
      "46170 2014-03-31 09:00:00      2014          4    C     1.0  16.85   \n",
      "46171 2014-03-31 09:00:00      2014          4    C     2.0  15.85   \n",
      "46172 2014-03-31 09:00:00      2014          4    C     3.0  14.85   \n",
      "46173 2014-03-31 09:00:00      2014          4    C     4.0  13.85   \n",
      "46174 2014-03-31 09:00:00      2014          4    C     5.0  12.85   \n",
      "...                   ...       ...        ...  ...     ...    ...   \n",
      "46560 2014-03-31 09:00:00      2014         11    C    85.0   0.05   \n",
      "46561 2014-03-31 09:00:00      2014         11    C    90.0   0.05   \n",
      "46562 2014-03-31 09:00:00      2014         11    C    95.0   0.05   \n",
      "46563 2014-03-31 09:00:00      2014         11    C   100.0   0.05   \n",
      "46564 2014-03-31 09:00:00      2014         11    C   105.0   0.05   \n",
      "\n",
      "                 MATURITY    TTM  \n",
      "46170 2014-04-18 09:00:00  0.049  \n",
      "46171 2014-04-18 09:00:00  0.049  \n",
      "46172 2014-04-18 09:00:00  0.049  \n",
      "46173 2014-04-18 09:00:00  0.049  \n",
      "46174 2014-04-18 09:00:00  0.049  \n",
      "...                   ...    ...  \n",
      "46560 2014-11-21 09:00:00  0.644  \n",
      "46561 2014-11-21 09:00:00  0.644  \n",
      "46562 2014-11-21 09:00:00  0.644  \n",
      "46563 2014-11-21 09:00:00  0.644  \n",
      "46564 2014-11-21 09:00:00  0.644  \n",
      "\n",
      "[395 rows x 8 columns]\n"
     ]
    }
   ],
   "source": [
    "print(options_data)"
   ]
  },
  {
   "cell_type": "code",
   "execution_count": 129,
   "metadata": {},
   "outputs": [
    {
     "name": "stdout",
     "output_type": "stream",
     "text": [
      "                     DATE            MATURITY    TTM  STRIKE  PRICE   IMP_VOL\n",
      "46170 2014-03-31 09:00:00 2014-04-18 09:00:00  0.049     1.0  16.85  0.000000\n",
      "46171 2014-03-31 09:00:00 2014-04-18 09:00:00  0.049     2.0  15.85  5.809018\n",
      "46172 2014-03-31 09:00:00 2014-04-18 09:00:00  0.049     3.0  14.85  0.000000\n",
      "46173 2014-03-31 09:00:00 2014-04-18 09:00:00  0.049     4.0  13.85  0.000000\n",
      "46174 2014-03-31 09:00:00 2014-04-18 09:00:00  0.049     5.0  12.85  0.000000\n",
      "...                   ...                 ...    ...     ...    ...       ...\n",
      "46560 2014-03-31 09:00:00 2014-11-21 09:00:00  0.644    85.0   0.05  0.000000\n",
      "46561 2014-03-31 09:00:00 2014-11-21 09:00:00  0.644    90.0   0.05  0.000000\n",
      "46562 2014-03-31 09:00:00 2014-11-21 09:00:00  0.644    95.0   0.05  0.000000\n",
      "46563 2014-03-31 09:00:00 2014-11-21 09:00:00  0.644   100.0   0.05  0.000000\n",
      "46564 2014-03-31 09:00:00 2014-11-21 09:00:00  0.644   105.0   0.05  0.000000\n",
      "\n",
      "[395 rows x 6 columns]\n"
     ]
    }
   ],
   "source": [
    "imp_vol = bs.bsm_call_imp_vol(\n",
    "            V0, \n",
    "            options_data.loc[46171]['STRIKE'],\n",
    "            options_data.loc[46171]['TTM'],\n",
    "            r, \n",
    "            options_data.loc[46171]['PRICE'],\n",
    "            sigma_est=2.,  \n",
    "            it= 100)\n",
    "options_data.loc[46171,'IMP_VOL'] = imp_vol\n",
    "print(options_data)"
   ]
  },
  {
   "cell_type": "code",
   "execution_count": 130,
   "metadata": {},
   "outputs": [
    {
     "name": "stdout",
     "output_type": "stream",
     "text": [
      "                     DATE            MATURITY    TTM  STRIKE  PRICE  IMP_VOL\n",
      "46170 2014-03-31 09:00:00 2014-04-18 09:00:00  0.049     1.0  16.85      0.0\n",
      "46171 2014-03-31 09:00:00 2014-04-18 09:00:00  0.049     2.0  15.85      0.0\n",
      "46172 2014-03-31 09:00:00 2014-04-18 09:00:00  0.049     3.0  14.85      0.0\n",
      "46173 2014-03-31 09:00:00 2014-04-18 09:00:00  0.049     4.0  13.85      0.0\n",
      "46174 2014-03-31 09:00:00 2014-04-18 09:00:00  0.049     5.0  12.85      0.0\n"
     ]
    }
   ],
   "source": [
    "options_data = options_data[['DATE', 'MATURITY', 'TTM', 'STRIKE', 'PRICE']]\n",
    "options_data['IMP_VOL'] = 0.0 ##  내재 변동성 저장할 새로운 열\n",
    "print(options_data.head())"
   ]
  },
  {
   "cell_type": "code",
   "execution_count": 131,
   "metadata": {},
   "outputs": [],
   "source": [
    "for option in options_data.index:\n",
    "    ## 모든 옵션 시장가에 대해 반복   \n",
    "    forward = futures_data[futures_data['MATURITY'] == \\\n",
    "                           options_data.loc[option]['MATURITY']]['PRICE'].values[0]\n",
    "    ###옵션과 만기가 일치하는 선물 선택\n",
    "    if  forward * (1 - tol) < options_data.loc[option]['STRIKE'] and options_data.loc[option]['STRIKE'] < forward * (1 + tol):\n",
    "\n",
    "        imp_vol = bs.bsm_call_imp_vol(\n",
    "            V0, # VSTOXX지수값\n",
    "            options_data.loc[option]['STRIKE'],\n",
    "            options_data.loc[option]['TTM'],\n",
    "            r, # 단기이자율\n",
    "            options_data.loc[option]['PRICE'],\n",
    "            sigma_est=2.,  ##내재변동성 초기 추정치\n",
    "            it= 100)   ## 이터레이션\n",
    "        \n",
    "        options_data.loc[option,'IMP_VOL'] = imp_vol\n",
    "    "
   ]
  },
  {
   "cell_type": "code",
   "execution_count": 136,
   "metadata": {
    "scrolled": true
   },
   "outputs": [
    {
     "name": "stdout",
     "output_type": "stream",
     "text": [
      "                     DATE            MATURITY    TTM  STRIKE  PRICE  IMP_VOL\n",
      "46170 2014-03-31 09:00:00 2014-04-18 09:00:00  0.049     1.0  16.85      0.0\n",
      "46171 2014-03-31 09:00:00 2014-04-18 09:00:00  0.049     2.0  15.85      0.0\n",
      "46172 2014-03-31 09:00:00 2014-04-18 09:00:00  0.049     3.0  14.85      0.0\n",
      "46173 2014-03-31 09:00:00 2014-04-18 09:00:00  0.049     4.0  13.85      0.0\n",
      "46174 2014-03-31 09:00:00 2014-04-18 09:00:00  0.049     5.0  12.85      0.0\n",
      "...                   ...                 ...    ...     ...    ...      ...\n",
      "46560 2014-03-31 09:00:00 2014-11-21 09:00:00  0.644    85.0   0.05      0.0\n",
      "46561 2014-03-31 09:00:00 2014-11-21 09:00:00  0.644    90.0   0.05      0.0\n",
      "46562 2014-03-31 09:00:00 2014-11-21 09:00:00  0.644    95.0   0.05      0.0\n",
      "46563 2014-03-31 09:00:00 2014-11-21 09:00:00  0.644   100.0   0.05      0.0\n",
      "46564 2014-03-31 09:00:00 2014-11-21 09:00:00  0.644   105.0   0.05      0.0\n",
      "\n",
      "[395 rows x 6 columns]\n"
     ]
    }
   ],
   "source": [
    "print(options_data)"
   ]
  },
  {
   "cell_type": "code",
   "execution_count": 133,
   "metadata": {},
   "outputs": [
    {
     "name": "stdout",
     "output_type": "stream",
     "text": [
      "DATE        2014-03-31 09:00:00\n",
      "MATURITY    2014-04-18 09:00:00\n",
      "TTM                       0.049\n",
      "STRIKE                        1\n",
      "PRICE                     16.85\n",
      "IMP_VOL                       0\n",
      "Name: 46170, dtype: object\n"
     ]
    }
   ],
   "source": [
    "print(options_data.loc[46170])"
   ]
  },
  {
   "cell_type": "code",
   "execution_count": 137,
   "metadata": {},
   "outputs": [
    {
     "name": "stdout",
     "output_type": "stream",
     "text": [
      "                     DATE            MATURITY    TTM  STRIKE  PRICE   IMP_VOL\n",
      "46178 2014-03-31 09:00:00 2014-04-18 09:00:00  0.049     9.0   8.85  2.083386\n",
      "46179 2014-03-31 09:00:00 2014-04-18 09:00:00  0.049    10.0   7.85  1.804194\n",
      "46180 2014-03-31 09:00:00 2014-04-18 09:00:00  0.049    11.0   6.85  1.550283\n",
      "46181 2014-03-31 09:00:00 2014-04-18 09:00:00  0.049    12.0   5.85  1.316103\n",
      "46182 2014-03-31 09:00:00 2014-04-18 09:00:00  0.049    13.0   4.85  1.097184\n",
      "...                   ...                 ...    ...     ...    ...       ...\n",
      "46541 2014-03-31 09:00:00 2014-11-21 09:00:00  0.644    26.0   2.20  0.785411\n",
      "46542 2014-03-31 09:00:00 2014-11-21 09:00:00  0.644    27.0   2.05  0.789241\n",
      "46543 2014-03-31 09:00:00 2014-11-21 09:00:00  0.644    28.0   1.95  0.800016\n",
      "46544 2014-03-31 09:00:00 2014-11-21 09:00:00  0.644    29.0   1.80  0.798958\n",
      "46545 2014-03-31 09:00:00 2014-11-21 09:00:00  0.644    30.0   1.70  0.805459\n",
      "\n",
      "[158 rows x 6 columns]\n"
     ]
    }
   ],
   "source": [
    "cond = (options_data['IMP_VOL'] > 0)\n",
    "plot_data = options_data[cond]\n",
    "print(plot_data)"
   ]
  },
  {
   "cell_type": "code",
   "execution_count": 75,
   "metadata": {},
   "outputs": [
    {
     "name": "stdout",
     "output_type": "stream",
     "text": [
      "5.809017622261663\n"
     ]
    }
   ],
   "source": [
    "print(max(options_data[\"IMP_VOL\"]))"
   ]
  },
  {
   "cell_type": "code",
   "execution_count": 76,
   "metadata": {},
   "outputs": [
    {
     "name": "stdout",
     "output_type": "stream",
     "text": [
      "496   2014-04-18 09:00:00\n",
      "497   2014-05-16 09:00:00\n",
      "498   2014-06-20 09:00:00\n",
      "499   2014-07-18 09:00:00\n",
      "500   2014-08-15 09:00:00\n",
      "501   2014-09-19 09:00:00\n",
      "502   2014-10-17 09:00:00\n",
      "503   2014-11-21 09:00:00\n",
      "Name: MATURITY, dtype: datetime64[ns]\n"
     ]
    }
   ],
   "source": [
    "print(futures_data['MATURITY'])"
   ]
  },
  {
   "cell_type": "code",
   "execution_count": 77,
   "metadata": {},
   "outputs": [
    {
     "name": "stdout",
     "output_type": "stream",
     "text": [
      "[Timestamp('2014-04-18 09:00:00'),\n",
      " Timestamp('2014-05-16 09:00:00'),\n",
      " Timestamp('2014-06-20 09:00:00'),\n",
      " Timestamp('2014-07-18 09:00:00'),\n",
      " Timestamp('2014-08-15 09:00:00'),\n",
      " Timestamp('2014-09-19 09:00:00'),\n",
      " Timestamp('2014-10-17 09:00:00'),\n",
      " Timestamp('2014-11-21 09:00:00')]\n"
     ]
    }
   ],
   "source": [
    "maturities = sorted(set(options_data['MATURITY']))\n",
    "pp.pprint(maturities)\n"
   ]
  },
  {
   "cell_type": "code",
   "execution_count": 78,
   "metadata": {},
   "outputs": [
    {
     "name": "stdout",
     "output_type": "stream",
     "text": [
      "5.809017622261663\n"
     ]
    }
   ],
   "source": [
    "print(max(plot_data['IMP_VOL']))"
   ]
  },
  {
   "cell_type": "code",
   "execution_count": 138,
   "metadata": {},
   "outputs": [
    {
     "name": "stderr",
     "output_type": "stream",
     "text": [
      "C:\\ProgramData\\Anaconda3\\lib\\site-packages\\ipykernel_launcher.py:3: UserWarning: Boolean Series key will be reindexed to match DataFrame index.\n",
      "  This is separate from the ipykernel package so we can avoid doing imports until\n",
      "C:\\ProgramData\\Anaconda3\\lib\\site-packages\\ipykernel_launcher.py:3: UserWarning: Boolean Series key will be reindexed to match DataFrame index.\n",
      "  This is separate from the ipykernel package so we can avoid doing imports until\n",
      "C:\\ProgramData\\Anaconda3\\lib\\site-packages\\ipykernel_launcher.py:3: UserWarning: Boolean Series key will be reindexed to match DataFrame index.\n",
      "  This is separate from the ipykernel package so we can avoid doing imports until\n",
      "C:\\ProgramData\\Anaconda3\\lib\\site-packages\\ipykernel_launcher.py:3: UserWarning: Boolean Series key will be reindexed to match DataFrame index.\n",
      "  This is separate from the ipykernel package so we can avoid doing imports until\n",
      "C:\\ProgramData\\Anaconda3\\lib\\site-packages\\ipykernel_launcher.py:3: UserWarning: Boolean Series key will be reindexed to match DataFrame index.\n",
      "  This is separate from the ipykernel package so we can avoid doing imports until\n",
      "C:\\ProgramData\\Anaconda3\\lib\\site-packages\\ipykernel_launcher.py:3: UserWarning: Boolean Series key will be reindexed to match DataFrame index.\n",
      "  This is separate from the ipykernel package so we can avoid doing imports until\n",
      "C:\\ProgramData\\Anaconda3\\lib\\site-packages\\ipykernel_launcher.py:3: UserWarning: Boolean Series key will be reindexed to match DataFrame index.\n",
      "  This is separate from the ipykernel package so we can avoid doing imports until\n",
      "C:\\ProgramData\\Anaconda3\\lib\\site-packages\\ipykernel_launcher.py:3: UserWarning: Boolean Series key will be reindexed to match DataFrame index.\n",
      "  This is separate from the ipykernel package so we can avoid doing imports until\n"
     ]
    },
    {
     "data": {
      "image/png": "[encoded data removed]",
      "text/plain": [
       "<Figure size 576x432 with 1 Axes>"
      ]
     },
     "metadata": {
      "needs_background": "light"
     },
     "output_type": "display_data"
    }
   ],
   "source": [
    "\n",
    "plt.figure(figsize= ( 8, 6))\n",
    "for maturity in maturities:\n",
    "    data = plot_data[options_data[\"MATURITY\"] == maturity]   ### colum을 이렇게도 부를 수 있구나 !!!\n",
    "    ## 만기 같은것들끼리 솎아서\n",
    "    plt.plot(data['STRIKE'], data['IMP_VOL'],\n",
    "             label=maturity.date(), lw = 1.5)\n",
    "    plt.plot(data['STRIKE'], data['IMP_VOL'], 'r.')\n",
    "    plt.grid(True)\n",
    "    plt.xlabel('strike')\n",
    "    plt.ylabel('implied volatility of volatility')\n",
    "    plt.legend()\n",
    "plt.show()"
   ]
  },
  {
   "cell_type": "code",
   "execution_count": null,
   "metadata": {},
   "outputs": [],
   "source": []
  },
  {
   "cell_type": "code",
   "execution_count": null,
   "metadata": {},
   "outputs": [],
   "source": []
  },
  {
   "cell_type": "code",
   "execution_count": null,
   "metadata": {},
   "outputs": [],
   "source": []
  },
  {
   "cell_type": "code",
   "execution_count": null,
   "metadata": {},
   "outputs": [],
   "source": []
  },
  {
   "cell_type": "code",
   "execution_count": null,
   "metadata": {},
   "outputs": [],
   "source": []
  },
  {
   "cell_type": "code",
   "execution_count": null,
   "metadata": {},
   "outputs": [],
   "source": []
  },
  {
   "cell_type": "code",
   "execution_count": null,
   "metadata": {},
   "outputs": [],
   "source": []
  },
  {
   "cell_type": "code",
   "execution_count": null,
   "metadata": {},
   "outputs": [],
   "source": []
  },
  {
   "cell_type": "code",
   "execution_count": null,
   "metadata": {},
   "outputs": [],
   "source": []
  },
  {
   "cell_type": "code",
   "execution_count": null,
   "metadata": {},
   "outputs": [],
   "source": []
  },
  {
   "cell_type": "code",
   "execution_count": null,
   "metadata": {},
   "outputs": [],
   "source": []
  },
  {
   "cell_type": "code",
   "execution_count": null,
   "metadata": {},
   "outputs": [],
   "source": []
  },
  {
   "cell_type": "code",
   "execution_count": null,
   "metadata": {},
   "outputs": [],
   "source": []
  }
 ],
 "metadata": {
  "kernelspec": {
   "display_name": "Python 3",
   "language": "python",
   "name": "python3"
  },
  "language_info": {
   "codemirror_mode": {
    "name": "ipython",
    "version": 3
   },
   "file_extension": ".py",
   "mimetype": "text/x-python",
   "name": "python",
   "nbconvert_exporter": "python",
   "pygments_lexer": "ipython3",
   "version": "3.7.6"
  }
 },
 "nbformat": 4,
 "nbformat_minor": 4
}
